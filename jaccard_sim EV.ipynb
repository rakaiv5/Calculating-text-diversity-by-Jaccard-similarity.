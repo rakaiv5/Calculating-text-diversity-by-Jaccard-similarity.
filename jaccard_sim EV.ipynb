{
 "cells": [
  {
   "cell_type": "code",
   "execution_count": 3,
   "metadata": {},
   "outputs": [],
   "source": [
    "def jaccard_sim(a, b):\n",
    "    return len(set(a).intersection(set(b)))/len(set(a).union(set(b)))"
   ]
  },
  {
   "cell_type": "code",
   "execution_count": 26,
   "metadata": {},
   "outputs": [
    {
     "name": "stdout",
     "output_type": "stream",
     "text": [
      "10000 4000\n"
     ]
    }
   ],
   "source": [
    "#Generated data\n",
    "text=open('GAN_0202_com\\infer\\generated800.txt',mode='r',encoding='UTF-8') # r\"...\"\n",
    "sentence=[]\n",
    "textListori = text.readlines()\n",
    "textList = textListori[:10000]\n",
    "#Real data\n",
    "textreal=open('GAN_0202_com\\data\\real.txt',mode='r',encoding='UTF-8')\n",
    "sentencereal=[]\n",
    "textrealList = textreal.readlines()\n",
    "print(len(textList), len(textrealList))"
   ]
  },
  {
   "cell_type": "code",
   "execution_count": 27,
   "metadata": {},
   "outputs": [],
   "source": [
    "#textrealList"
   ]
  },
  {
   "cell_type": "code",
   "execution_count": 28,
   "metadata": {},
   "outputs": [],
   "source": [
    "for msg in textList:\n",
    "    msg = msg.strip('\\n')\n",
    "    adm = msg.split(' ')\n",
    "    sentence.append(adm)\n",
    "for msgreal in textrealList:\n",
    "    msgreal = msgreal.strip('\\n')\n",
    "    admreal = msgreal.split(' ')\n",
    "    sentencereal.append(admreal)\n",
    "#output = sentencereal"
   ]
  },
  {
   "cell_type": "code",
   "execution_count": 29,
   "metadata": {},
   "outputs": [
    {
     "data": {
      "text/plain": [
       "0.0"
      ]
     },
     "execution_count": 29,
     "metadata": {},
     "output_type": "execute_result"
    }
   ],
   "source": [
    "jaccard_sim(sentence[0], sentence[1])"
   ]
  },
  {
   "cell_type": "code",
   "execution_count": 30,
   "metadata": {},
   "outputs": [
    {
     "name": "stdout",
     "output_type": "stream",
     "text": [
      "0.8130296357846555\n"
     ]
    }
   ],
   "source": [
    "record = []\n",
    "for i in range(len(sentence)): #Generated data\n",
    "    simList = []\n",
    "    for j in range(len(sentence)): #Generated data\n",
    "        if i != j:\n",
    "            simList.append(jaccard_sim(sentence[i], sentence[j]))\n",
    "    record.append(max(simList))\n",
    "print(sum(record)/len(record))"
   ]
  },
  {
   "cell_type": "code",
   "execution_count": 31,
   "metadata": {},
   "outputs": [
    {
     "name": "stdout",
     "output_type": "stream",
     "text": [
      "0.7567548928634765\n"
     ]
    }
   ],
   "source": [
    "record_d = []\n",
    "for i in range(len(sentence)): #Generated data\n",
    "    simList_d = []\n",
    "    for j in range(len(sentencereal)): #Real data\n",
    "        simList_d.append(jaccard_sim(sentence[i], sentencereal[j]))\n",
    "    record_d.append(max(simList_d))\n",
    "print(sum(record_d)/len(record_d))"
   ]
  },
  {
   "cell_type": "code",
   "execution_count": 32,
   "metadata": {},
   "outputs": [],
   "source": [
    "div = 100 - (sum(record)/len(record)*100)\n",
    "nov = 100 - (sum(record_d)/len(record_d)*100)"
   ]
  },
  {
   "cell_type": "code",
   "execution_count": 33,
   "metadata": {},
   "outputs": [
    {
     "name": "stdout",
     "output_type": "stream",
     "text": [
      "Diversity =  18.7   Novety =  24.3\n"
     ]
    }
   ],
   "source": [
    "print(\"Diversity = \", \"%.1f\" % div, \" \", \"Novety = \",\"%.1f\" % nov)"
   ]
  },
  {
   "cell_type": "code",
   "execution_count": null,
   "metadata": {},
   "outputs": [],
   "source": []
  }
 ],
 "metadata": {
  "kernelspec": {
   "display_name": "Python 3",
   "language": "python",
   "name": "python3"
  },
  "language_info": {
   "codemirror_mode": {
    "name": "ipython",
    "version": 3
   },
   "file_extension": ".py",
   "mimetype": "text/x-python",
   "name": "python",
   "nbconvert_exporter": "python",
   "pygments_lexer": "ipython3",
   "version": "3.6.5"
  }
 },
 "nbformat": 4,
 "nbformat_minor": 2
}
